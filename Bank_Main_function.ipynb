{
 "cells": [
  {
   "cell_type": "code",
   "execution_count": 1,
   "id": "93a535ee",
   "metadata": {},
   "outputs": [
    {
     "name": "stdout",
     "output_type": "stream",
     "text": [
      "importing Jupyter notebook from bank_model.ipynb\n",
      "       age  job  marital  education  default  balance  housing  loan  contact  \\\n",
      "0       58    4        1          2        0     2143        1     0        2   \n",
      "1       44    9        2          1        0       29        1     0        2   \n",
      "2       33    2        1          1        0        2        1     1        2   \n",
      "3       47    1        1          3        0     1506        1     0        2   \n",
      "4       33   11        2          3        0        1        0     0        2   \n",
      "...    ...  ...      ...        ...      ...      ...      ...   ...      ...   \n",
      "45206   51    9        1          2        0      825        0     0        0   \n",
      "45207   71    5        0          0        0     1729        0     0        0   \n",
      "45208   72    5        1          1        0     5715        0     0        0   \n",
      "45209   57    1        1          1        0      668        0     0        1   \n",
      "45210   37    2        1          1        0     2971        0     0        0   \n",
      "\n",
      "       day  month  duration  campaign  pdays  previous  poutcome  y  \n",
      "0        5      8       261         1     -1         0         3  0  \n",
      "1        5      8       151         1     -1         0         3  0  \n",
      "2        5      8        76         1     -1         0         3  0  \n",
      "3        5      8        92         1     -1         0         3  0  \n",
      "4        5      8       198         1     -1         0         3  0  \n",
      "...    ...    ...       ...       ...    ...       ...       ... ..  \n",
      "45206   17      9       977         3     -1         0         3  1  \n",
      "45207   17      9       456         2     -1         0         3  1  \n",
      "45208   17      9      1127         5    184         3         2  1  \n",
      "45209   17      9       508         4     -1         0         3  0  \n",
      "45210   17      9       361         2    188        11         1  0  \n",
      "\n",
      "[45211 rows x 17 columns]\n",
      "              precision    recall  f1-score   support\n",
      "\n",
      "           0       0.90      0.98      0.94      7985\n",
      "           1       0.54      0.16      0.25      1058\n",
      "\n",
      "    accuracy                           0.89      9043\n",
      "   macro avg       0.72      0.57      0.59      9043\n",
      "weighted avg       0.86      0.89      0.86      9043\n",
      "\n",
      "CPU times: total: 578 ms\n",
      "Wall time: 592 ms\n"
     ]
    },
    {
     "name": "stderr",
     "output_type": "stream",
     "text": [
      "C:\\Users\\admin\\anaconda3\\Lib\\site-packages\\sklearn\\linear_model\\_logistic.py:458: ConvergenceWarning: lbfgs failed to converge (status=1):\n",
      "STOP: TOTAL NO. of ITERATIONS REACHED LIMIT.\n",
      "\n",
      "Increase the number of iterations (max_iter) or scale the data as shown in:\n",
      "    https://scikit-learn.org/stable/modules/preprocessing.html\n",
      "Please also refer to the documentation for alternative solver options:\n",
      "    https://scikit-learn.org/stable/modules/linear_model.html#logistic-regression\n",
      "  n_iter_i = _check_optimize_result(\n"
     ]
    }
   ],
   "source": [
    "##importing the necessary libraries\n",
    "import import_ipynb\n",
    "import pandas as pd\n",
    "from bank_model import main_function"
   ]
  },
  {
   "cell_type": "code",
   "execution_count": 3,
   "id": "fbd8f71f",
   "metadata": {},
   "outputs": [
    {
     "name": "stderr",
     "output_type": "stream",
     "text": [
      "C:\\Users\\admin\\anaconda3\\Lib\\site-packages\\sklearn\\linear_model\\_logistic.py:458: ConvergenceWarning: lbfgs failed to converge (status=1):\n",
      "STOP: TOTAL NO. of ITERATIONS REACHED LIMIT.\n",
      "\n",
      "Increase the number of iterations (max_iter) or scale the data as shown in:\n",
      "    https://scikit-learn.org/stable/modules/preprocessing.html\n",
      "Please also refer to the documentation for alternative solver options:\n",
      "    https://scikit-learn.org/stable/modules/linear_model.html#logistic-regression\n",
      "  n_iter_i = _check_optimize_result(\n"
     ]
    }
   ],
   "source": [
    "#calling the main_function into a variable\n",
    "results = main_function()"
   ]
  },
  {
   "cell_type": "code",
   "execution_count": 4,
   "id": "12e55880",
   "metadata": {},
   "outputs": [
    {
     "name": "stdout",
     "output_type": "stream",
     "text": [
      "              precision    recall  f1-score   support\n",
      "\n",
      "           0       0.90      0.98      0.94      7985\n",
      "           1       0.54      0.16      0.25      1058\n",
      "\n",
      "    accuracy                           0.89      9043\n",
      "   macro avg       0.72      0.57      0.59      9043\n",
      "weighted avg       0.86      0.89      0.86      9043\n",
      "\n"
     ]
    }
   ],
   "source": [
    "print(results)"
   ]
  },
  {
   "cell_type": "code",
   "execution_count": null,
   "id": "10d701d7",
   "metadata": {},
   "outputs": [],
   "source": []
  }
 ],
 "metadata": {
  "kernelspec": {
   "display_name": "Python 3 (ipykernel)",
   "language": "python",
   "name": "python3"
  },
  "language_info": {
   "codemirror_mode": {
    "name": "ipython",
    "version": 3
   },
   "file_extension": ".py",
   "mimetype": "text/x-python",
   "name": "python",
   "nbconvert_exporter": "python",
   "pygments_lexer": "ipython3",
   "version": "3.11.3"
  }
 },
 "nbformat": 4,
 "nbformat_minor": 5
}
