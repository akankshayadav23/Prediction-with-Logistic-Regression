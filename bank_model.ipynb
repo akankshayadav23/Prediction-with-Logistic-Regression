{
 "cells": [
  {
   "cell_type": "code",
   "execution_count": 35,
   "id": "d3760dea",
   "metadata": {},
   "outputs": [
    {
     "name": "stdout",
     "output_type": "stream",
     "text": [
      "       age  job  marital  education  default  balance  housing  loan  contact  \\\n",
      "0       58    4        1          2        0     2143        1     0        2   \n",
      "1       44    9        2          1        0       29        1     0        2   \n",
      "2       33    2        1          1        0        2        1     1        2   \n",
      "3       47    1        1          3        0     1506        1     0        2   \n",
      "4       33   11        2          3        0        1        0     0        2   \n",
      "...    ...  ...      ...        ...      ...      ...      ...   ...      ...   \n",
      "45206   51    9        1          2        0      825        0     0        0   \n",
      "45207   71    5        0          0        0     1729        0     0        0   \n",
      "45208   72    5        1          1        0     5715        0     0        0   \n",
      "45209   57    1        1          1        0      668        0     0        1   \n",
      "45210   37    2        1          1        0     2971        0     0        0   \n",
      "\n",
      "       day  month  duration  campaign  pdays  previous  poutcome  y  \n",
      "0        5      8       261         1     -1         0         3  0  \n",
      "1        5      8       151         1     -1         0         3  0  \n",
      "2        5      8        76         1     -1         0         3  0  \n",
      "3        5      8        92         1     -1         0         3  0  \n",
      "4        5      8       198         1     -1         0         3  0  \n",
      "...    ...    ...       ...       ...    ...       ...       ... ..  \n",
      "45206   17      9       977         3     -1         0         3  1  \n",
      "45207   17      9       456         2     -1         0         3  1  \n",
      "45208   17      9      1127         5    184         3         2  1  \n",
      "45209   17      9       508         4     -1         0         3  0  \n",
      "45210   17      9       361         2    188        11         1  0  \n",
      "\n",
      "[45211 rows x 17 columns]\n",
      "CPU times: total: 31.2 ms\n",
      "Wall time: 69 ms\n"
     ]
    }
   ],
   "source": [
    "%%time\n",
    "##importing the necessary libraries\n",
    "import pandas as pd\n",
    "import numpy as np\n",
    "import time\n",
    "from sklearn.linear_model import LogisticRegression\n",
    "from sklearn.model_selection import train_test_split\n",
    "from sklearn.metrics import accuracy_score, confusion_matrix, ConfusionMatrixDisplay, precision_score,classification_report\n",
    "\n",
    "## loading the dataset\n",
    "def read_data():\n",
    "    data = pd.read_csv(\"bank_file.csv\")\n",
    "    return data\n",
    "\n",
    "data = read_data()\n",
    "print(data)\n",
    "## data preparation function and spliting the data into X and y\n",
    "def data_prep(data,t):\n",
    "    X = data.iloc[:,:-1]\n",
    "    y = data.iloc[:,-1]\n",
    "    X_train,X_test,y_train,y_test = train_test_split(X,y,test_size = t,random_state=34,stratify = y)\n",
    "    return X_train,X_test,y_train,y_test\n",
    "## Training the model using logistic regression and making function \n",
    "\n",
    "def log_model(X_train,y_train,X_test):\n",
    "    lg_model = LogisticRegression()\n",
    "    lg_model_fit = lg_model.fit(X_train,y_train)\n",
    "    pred = lg_model_fit.predict(X_test)\n",
    "    return pred\n",
    "## creating a function for the accuracy check and other parameter\n",
    "def model_log_diag(y_test,pred):\n",
    "    acc = accuracy_score(y_test,pred)\n",
    "    prc = precision_score(y_test,pred)\n",
    "    clf = classification_report(y_test,pred)\n",
    "    conf = confusion_matrix(y_test,pred)\n",
    "    return acc, prc,clf,conf\n",
    "## calling all the function into main function.\n",
    "def main_function():\n",
    "    data = read_data()\n",
    "    X_train,X_test,y_train,y_test = data_prep(data,0.2)\n",
    "    pred = log_model(X_train,y_train,X_test)\n",
    "    acc, prc,clf,conf = model_log_diag(y_test,pred)\n",
    "    return clf"
   ]
  },
  {
   "cell_type": "code",
   "execution_count": 36,
   "id": "a8fbb990",
   "metadata": {
    "collapsed": true
   },
   "outputs": [
    {
     "name": "stdout",
     "output_type": "stream",
     "text": [
      "              precision    recall  f1-score   support\n",
      "\n",
      "           0       0.90      0.98      0.94      7985\n",
      "           1       0.54      0.16      0.25      1058\n",
      "\n",
      "    accuracy                           0.89      9043\n",
      "   macro avg       0.72      0.57      0.59      9043\n",
      "weighted avg       0.86      0.89      0.86      9043\n",
      "\n",
      "CPU times: total: 234 ms\n",
      "Wall time: 317 ms\n"
     ]
    },
    {
     "name": "stderr",
     "output_type": "stream",
     "text": [
      "C:\\Users\\admin\\anaconda3\\Lib\\site-packages\\sklearn\\linear_model\\_logistic.py:458: ConvergenceWarning: lbfgs failed to converge (status=1):\n",
      "STOP: TOTAL NO. of ITERATIONS REACHED LIMIT.\n",
      "\n",
      "Increase the number of iterations (max_iter) or scale the data as shown in:\n",
      "    https://scikit-learn.org/stable/modules/preprocessing.html\n",
      "Please also refer to the documentation for alternative solver options:\n",
      "    https://scikit-learn.org/stable/modules/linear_model.html#logistic-regression\n",
      "  n_iter_i = _check_optimize_result(\n"
     ]
    }
   ],
   "source": [
    "%%time\n",
    "results = main_function()\n",
    "print(results)"
   ]
  },
  {
   "cell_type": "code",
   "execution_count": null,
   "id": "559529c7",
   "metadata": {},
   "outputs": [],
   "source": []
  }
 ],
 "metadata": {
  "kernelspec": {
   "display_name": "Python 3 (ipykernel)",
   "language": "python",
   "name": "python3"
  },
  "language_info": {
   "codemirror_mode": {
    "name": "ipython",
    "version": 3
   },
   "file_extension": ".py",
   "mimetype": "text/x-python",
   "name": "python",
   "nbconvert_exporter": "python",
   "pygments_lexer": "ipython3",
   "version": "3.11.3"
  }
 },
 "nbformat": 4,
 "nbformat_minor": 5
}
